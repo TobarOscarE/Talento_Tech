{
 "cells": [
  {
   "cell_type": "code",
   "execution_count": 1,
   "id": "0fcf8909",
   "metadata": {},
   "outputs": [
    {
     "name": "stdout",
     "output_type": "stream",
     "text": [
      "✅ Archivo generado con éxito: C:\\Users\\AUX ADMINISTRATIVO\\Documents\\TOBAR\\BOOTCAMP PROGRAMACION\\Phyton proyecto\\07 JULIO\\reporte_completo.xlsx\n"
     ]
    }
   ],
   "source": [
    "import os\n",
    "import pandas as pd\n",
    "\n",
    "# Pedir al usuario la carpeta raíz\n",
    "carpeta_raiz = input(\"Ingresa la ruta de la carpeta raíz: \").strip()\n",
    "\n",
    "# Buscar el único archivo Excel en la carpeta raíz\n",
    "excel_files = [f for f in os.listdir(carpeta_raiz) if f.endswith('.xlsx') or f.endswith('.xls')]\n",
    "\n",
    "if len(excel_files) != 1:\n",
    "    print(\"⚠️ No se encontró exactamente un archivo Excel en la carpeta raíz.\")\n",
    "    exit()\n",
    "\n",
    "# Cargar el archivo Excel encontrado\n",
    "ruta_excel = os.path.join(carpeta_raiz, excel_files[0])\n",
    "df = pd.read_excel(ruta_excel)\n",
    "\n",
    "# Asegurar que las columnas estén bien nombradas\n",
    "df.columns = [col.strip().upper() for col in df.columns]\n",
    "df = df.rename(columns={\n",
    "    \"DOCUMENTO\": \"DOCUMENTO\",\n",
    "    \"ASEGURADORA\": \"ASEGURADORA\",\n",
    "    \"PROGRAMA\": \"PROGRAMA\",\n",
    "    \"APELLIDOS Y NOMBRES\": \"NOMBRE_COMPLETO\"\n",
    "})\n",
    "\n",
    "# Crear columna con el nombre del paciente en formato para búsqueda\n",
    "df[\"NOMBRE_BUSQUEDA\"] = df[\"NOMBRE_COMPLETO\"].str.upper().str.replace(\" \", \"\", regex=False)\n",
    "\n",
    "# Obtener subcarpetas dentro de la carpeta raíz (cada una representa un tipo de soporte)\n",
    "subcarpetas = [carpeta for carpeta in os.listdir(carpeta_raiz)\n",
    "               if os.path.isdir(os.path.join(carpeta_raiz, carpeta))]\n",
    "\n",
    "# Crear columnas nuevas por cada subcarpeta y llenarlas con \"\"\n",
    "for sub in subcarpetas:\n",
    "    df[sub] = \"\"\n",
    "\n",
    "# Buscar archivos PDF por subcarpeta\n",
    "for sub in subcarpetas:\n",
    "    ruta_sub = os.path.join(carpeta_raiz, sub)\n",
    "    archivos = os.listdir(ruta_sub)\n",
    "    archivos_pdf = [f for f in archivos if f.lower().endswith('.pdf')]\n",
    "    \n",
    "    for idx, fila in df.iterrows():\n",
    "        nombre_paciente = fila[\"NOMBRE_BUSQUEDA\"]\n",
    "        encontrado = any(nombre_paciente in archivo.replace(\" \", \"\").upper() for archivo in archivos_pdf)\n",
    "        if encontrado:\n",
    "            df.at[idx, sub] = \"OK\"\n",
    "\n",
    "# Eliminar la columna auxiliar\n",
    "df.drop(columns=[\"NOMBRE_BUSQUEDA\"], inplace=True)\n",
    "\n",
    "# Guardar nuevo archivo Excel\n",
    "archivo_salida = os.path.join(carpeta_raiz, \"reporte_completo.xlsx\")\n",
    "df.to_excel(archivo_salida, index=False)\n",
    "\n",
    "print(\"✅ Archivo generado con éxito:\", archivo_salida)\n"
   ]
  }
 ],
 "metadata": {
  "kernelspec": {
   "display_name": "Python 3",
   "language": "python",
   "name": "python3"
  },
  "language_info": {
   "codemirror_mode": {
    "name": "ipython",
    "version": 3
   },
   "file_extension": ".py",
   "mimetype": "text/x-python",
   "name": "python",
   "nbconvert_exporter": "python",
   "pygments_lexer": "ipython3",
   "version": "3.13.4"
  }
 },
 "nbformat": 4,
 "nbformat_minor": 5
}
