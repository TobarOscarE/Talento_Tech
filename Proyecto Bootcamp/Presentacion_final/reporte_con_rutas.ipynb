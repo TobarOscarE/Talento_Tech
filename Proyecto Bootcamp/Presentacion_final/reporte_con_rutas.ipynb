{
 "cells": [
  {
   "cell_type": "code",
   "execution_count": 1,
   "id": "b29675eb",
   "metadata": {},
   "outputs": [],
   "source": [
    "\n",
    "import os\n",
    "import pandas as pd\n"
   ]
  },
  {
   "cell_type": "code",
   "execution_count": 2,
   "id": "8eb53c8b",
   "metadata": {},
   "outputs": [],
   "source": [
    "\n",
    "# Pedir al usuario la carpeta raíz\n",
    "carpeta_raiz = input(\"Ingresa la ruta de la carpeta raíz: \").strip()\n",
    "\n",
    "# Buscar el único archivo Excel en la carpeta raíz\n",
    "excel_files = [f for f in os.listdir(carpeta_raiz) if f.endswith('.xlsx') or f.endswith('.xls')]\n",
    "\n",
    "if len(excel_files) != 1:\n",
    "    print(\"⚠️ No se encontró exactamente un archivo Excel en la carpeta raíz.\")\n",
    "    exit()\n",
    "\n",
    "# Cargar el archivo Excel encontrado\n",
    "ruta_excel = os.path.join(carpeta_raiz, excel_files[0])\n",
    "df = pd.read_excel(ruta_excel)\n",
    "\n",
    "# Asegurar que las columnas estén bien nombradas\n",
    "df.columns = [col.strip().upper() for col in df.columns]\n",
    "df = df.rename(columns={\n",
    "    \"DOCUMENTO\": \"DOCUMENTO\",\n",
    "    \"ASEGURADORA\": \"ASEGURADORA\",\n",
    "    \"PROGRAMA\": \"PROGRAMA\",\n",
    "    \"APELLIDOS Y NOMBRES\": \"NOMBRE_COMPLETO\"\n",
    "})\n",
    "\n",
    "# Convertir documento a texto por si hay ceros a la izquierda\n",
    "df[\"DOCUMENTO\"] = df[\"DOCUMENTO\"].astype(str)\n"
   ]
  },
  {
   "cell_type": "code",
   "execution_count": 3,
   "id": "11fdc93f",
   "metadata": {},
   "outputs": [],
   "source": [
    "\n",
    "# Obtener subcarpetas dentro de la carpeta raíz (cada una representa un tipo de soporte)\n",
    "subcarpetas = [carpeta for carpeta in os.listdir(carpeta_raiz)\n",
    "               if os.path.isdir(os.path.join(carpeta_raiz, carpeta))]\n",
    "\n",
    "# Crear columnas nuevas por cada subcarpeta\n",
    "df_rutas = df.copy()\n",
    "for sub in subcarpetas:\n",
    "    df[sub] = \"\"        # Para reporte OK\n",
    "    df_rutas[sub] = \"\"  # Para reporte con rutas\n"
   ]
  },
  {
   "cell_type": "code",
   "execution_count": 4,
   "id": "668d94a7",
   "metadata": {},
   "outputs": [],
   "source": [
    "\n",
    "# Buscar archivos PDF por subcarpeta\n",
    "for sub in subcarpetas:\n",
    "    ruta_sub = os.path.join(carpeta_raiz, sub)\n",
    "    archivos = os.listdir(ruta_sub)\n",
    "    archivos_pdf = [f for f in archivos if f.lower().endswith('.pdf')]\n",
    "\n",
    "    for idx, fila in df.iterrows():\n",
    "        doc_paciente = fila[\"DOCUMENTO\"]\n",
    "        encontrado = None\n",
    "        for archivo in archivos_pdf:\n",
    "            if doc_paciente in archivo.replace(\" \", \"\").upper():\n",
    "                ruta_pdf = os.path.join(ruta_sub, archivo)\n",
    "                df.at[idx, sub] = \"OK\"\n",
    "                df_rutas.at[idx, sub] = ruta_pdf\n",
    "                break\n"
   ]
  },
  {
   "cell_type": "code",
   "execution_count": 5,
   "id": "c8aae5eb",
   "metadata": {},
   "outputs": [
    {
     "name": "stdout",
     "output_type": "stream",
     "text": [
      "✅ Archivo generado con éxito: C:\\Users\\AUX ADMINISTRATIVO\\Documents\\TOBAR\\BOOTCAMP PROGRAMACION\\Phyton proyecto pruebas\\07 JULIO\\reporte_completo_con_rutas.xlsx\n"
     ]
    }
   ],
   "source": [
    "\n",
    "# Guardar ambos DataFrames en un archivo Excel con dos hojas\n",
    "archivo_salida = os.path.join(carpeta_raiz, \"reporte_completo_con_rutas.xlsx\")\n",
    "with pd.ExcelWriter(archivo_salida, engine='openpyxl') as writer:\n",
    "    df.to_excel(writer, index=False, sheet_name=\"REPORTE_OK\")\n",
    "    df_rutas.to_excel(writer, index=False, sheet_name=\"REPORTE_RUTAS\")\n",
    "\n",
    "print(\"✅ Archivo generado con éxito:\", archivo_salida)\n"
   ]
  }
 ],
 "metadata": {
  "kernelspec": {
   "display_name": "Python 3",
   "language": "python",
   "name": "python3"
  },
  "language_info": {
   "codemirror_mode": {
    "name": "ipython",
    "version": 3
   },
   "file_extension": ".py",
   "mimetype": "text/x-python",
   "name": "python",
   "nbconvert_exporter": "python",
   "pygments_lexer": "ipython3",
   "version": "3.13.4"
  }
 },
 "nbformat": 4,
 "nbformat_minor": 5
}
