{
  "cells": [
    {
      "cell_type": "markdown",
      "metadata": {
        "id": "AsbIFz34Rv4S"
      },
      "source": [
        "# Manejo de errores con excepciones (try...except):"
      ]
    },
    {
      "cell_type": "code",
      "execution_count": null,
      "metadata": {
        "colab": {
          "base_uri": "https://localhost:8080/"
        },
        "id": "-x_L4eYlSYtR",
        "outputId": "88d194b3-d2a5-4afc-b3fd-4e7d303a465c"
      },
      "outputs": [
        {
          "name": "stdout",
          "output_type": "stream",
          "text": [
            "Ejemplo (división) de Manejo de errores con excepciones (try...except):\n",
            "Ingrese el numerador: 88\n",
            "Ingrese el denominador: 0\n",
            "Recuerda que no es posible dividir entre cero!\n"
          ]
        }
      ],
      "source": [
        "print(\"Ejemplo (división) de Manejo de errores con excepciones (try...except):\")\n",
        "num = float(input(\"Ingrese el numerador: \"))\n",
        "den = float(input(\"Ingrese el denominador: \"))\n",
        "\n",
        "try:\n",
        "  div = num/den\n",
        "  print(f\"El resultado de la división es: {div}\")\n",
        "except ZeroDivisionError:\n",
        "  print(\"Recuerda que no es posible dividir entre cero!\")"
      ]
    },
    {
      "cell_type": "code",
      "execution_count": 3,
      "metadata": {
        "colab": {
          "base_uri": "https://localhost:8080/"
        },
        "id": "USImSWtmUk-x",
        "outputId": "20d8d5e4-7c2a-4143-b959-b5c12ae8dbff"
      },
      "outputs": [
        {
          "name": "stdout",
          "output_type": "stream",
          "text": [
            "Ejemplo (división) de Manejo de errores con excepciones (try...except):\n",
            "Recuerda que no es posible dividir entre cero!\n"
          ]
        }
      ],
      "source": [
        "print(\"Ejemplo (división) de Manejo de errores con excepciones (try...except):\")\n",
        "num = float(input(\"Ingrese el numerador: \"))\n",
        "den = float(input(\"Ingrese el denominador: \"))\n",
        "\n",
        "try:\n",
        "  div = num/den\n",
        "  print(f\"El resultado de la división {num} / {den} es: {div}\")\n",
        "except:\n",
        "  print(\"Recuerda que no es posible dividir entre cero!\")"
      ]
    },
    {
      "cell_type": "markdown",
      "metadata": {
        "id": "zYrzPE2ZhWSI"
      },
      "source": [
        "# Función lambda:"
      ]
    },
    {
      "cell_type": "code",
      "execution_count": null,
      "metadata": {
        "colab": {
          "base_uri": "https://localhost:8080/"
        },
        "id": "FuXIhTRghkpA",
        "outputId": "2cb709ea-a491-4071-cf8d-6c707958f3c4"
      },
      "outputs": [
        {
          "name": "stdout",
          "output_type": "stream",
          "text": [
            "Enter the 1st number: 2\n",
            "Enter the 2nd number: 2\n",
            "The sum is: 4.0\n",
            "The substraction is: 0.0\n",
            "The multiplication is: 4.0\n",
            "The division is: 1.0\n"
          ]
        }
      ],
      "source": [
        "n1 = float(input(\"Enter the 1st number: \"))\n",
        "n2 = float(input(\"Enter the 2nd number: \"))\n",
        "\n",
        "suma = lambda a,b: a+b\n",
        "resultado = suma(n1, n2)\n",
        "print(f\"The sum is: {resultado}\")\n",
        "\n",
        "resta = lambda a,b: a-b\n",
        "resultado = resta(n1, n2)\n",
        "print(f\"The substraction is: {resultado}\")\n",
        "\n",
        "multiplicacion = lambda a,b: a*b\n",
        "resultado = multiplicacion(n1, n2)\n",
        "print(f\"The multiplication is: {resultado}\")\n",
        "\n",
        "division = lambda a,b: a/b\n",
        "resultado = division(n1, n2) if n2!=0 else \"You cannot divide by zero\"\n",
        "print(f\"The division is: {resultado}\")"
      ]
    },
    {
      "cell_type": "code",
      "execution_count": 4,
      "metadata": {
        "colab": {
          "base_uri": "https://localhost:8080/"
        },
        "id": "NGTA2VrajE1W",
        "outputId": "a0e35449-0325-47ea-ceaf-424489e031f1"
      },
      "outputs": [
        {
          "name": "stdout",
          "output_type": "stream",
          "text": [
            "3.0 elevado a 5.0 es: 243.0\n",
            "La raíz cuadrada de 3.0 es: 1.7320508075688772\n",
            "El logaritmo de 3.0 en base 5.0 es: 0.6826061944859854\n",
            "La raíz 5.0-ésima de 3.0 es: 1.2457309396155174\n"
          ]
        }
      ],
      "source": [
        "import math\n",
        "\n",
        "# Solicitar datos al usuario\n",
        "n1 = float(input(\"Ingrese el primer número (base o número): \"))\n",
        "n2 = float(input(\"Ingrese el segundo número (exponente, base logaritmo o índice de raíz): \"))\n",
        "\n",
        "# Potencia\n",
        "potencia = lambda base, exponente: math.pow(base, exponente)\n",
        "resultado_potencia = potencia(n1, n2)\n",
        "print(f\"{n1} elevado a {n2} es: {resultado_potencia}\")\n",
        "\n",
        "# Raíz cuadrada\n",
        "raiz_cuadrada = lambda numero: math.sqrt(numero) if numero >= 0 else \"Número inválido para raíz cuadrada\"\n",
        "resultado_raiz = raiz_cuadrada(n1)\n",
        "print(f\"La raíz cuadrada de {n1} es: {resultado_raiz}\")\n",
        "\n",
        "# Logaritmo\n",
        "logaritmo = lambda numero, base: math.log(numero, base) if numero > 0 and base > 0 and base != 1 else \"Valor inválido para logaritmo\"\n",
        "resultado_log = logaritmo(n1, n2)\n",
        "print(f\"El logaritmo de {n1} en base {n2} es: {resultado_log}\")\n",
        "\n",
        "# Raíz enésima\n",
        "raiz_enesima = lambda numero, indice: numero ** (1 / indice) if indice != 0 else \"Índice inválido\"\n",
        "resultado_raiz_enesima = raiz_enesima(n1, n2)\n",
        "print(f\"La raíz {n2}-ésima de {n1} es: {resultado_raiz_enesima}\")\n"
      ]
    },
    {
      "cell_type": "code",
      "execution_count": 5,
      "metadata": {
        "colab": {
          "base_uri": "https://localhost:8080/"
        },
        "id": "UNJzzQuIjGa9",
        "outputId": "71810b7b-e065-4355-9c4c-57462b3834e8"
      },
      "outputs": [
        {
          "name": "stdout",
          "output_type": "stream",
          "text": [
            "El seno de 45.0 grados es: 0.7071067811865476\n",
            "El coseno de 45.0 grados es: 0.7071067811865476\n",
            "La tangente de 45.0 grados es: 0.9999999999999999\n"
          ]
        }
      ],
      "source": [
        "import math\n",
        "\n",
        "# Solicitar el ángulo en grados\n",
        "angulo_grados = float(input(\"Ingrese el ángulo en grados: \"))\n",
        "\n",
        "# Convertir de grados a radianes porque math.sin, math.cos, math.tan usan radianes\n",
        "angulo_radianes = math.radians(angulo_grados)\n",
        "\n",
        "# Seno\n",
        "seno = lambda angulo: math.sin(angulo)\n",
        "resultado_seno = seno(angulo_radianes)\n",
        "print(f\"El seno de {angulo_grados} grados es: {resultado_seno}\")\n",
        "\n",
        "# Coseno\n",
        "coseno = lambda angulo: math.cos(angulo)\n",
        "resultado_coseno = coseno(angulo_radianes)\n",
        "print(f\"El coseno de {angulo_grados} grados es: {resultado_coseno}\")\n",
        "\n",
        "# Tangente\n",
        "tangente = lambda angulo: math.tan(angulo)\n",
        "resultado_tangente = tangente(angulo_radianes)\n",
        "print(f\"La tangente de {angulo_grados} grados es: {resultado_tangente}\")\n"
      ]
    },
    {
      "cell_type": "markdown",
      "metadata": {},
      "source": [
        "#SERIE FIBONACCI"
      ]
    },
    {
      "cell_type": "code",
      "execution_count": 16,
      "metadata": {
        "colab": {
          "base_uri": "https://localhost:8080/"
        },
        "id": "9zE8-huvht9_",
        "outputId": "9db64e9c-216c-4c5a-fca2-7a5a62f4b67a"
      },
      "outputs": [
        {
          "name": "stdout",
          "output_type": "stream",
          "text": [
            "digite hasta que posicion de la serie fibonacci desea llegar\n",
            "fibonacci(0) = 0\n",
            "fibonacci(1) = 1\n",
            "fibonacci(2) = 1\n",
            "fibonacci(3) = 2\n",
            "fibonacci(4) = 3\n",
            "fibonacci(5) = 5\n",
            "fibonacci(6) = 8\n",
            "fibonacci(7) = 13\n"
          ]
        }
      ],
      "source": [
        "def fibonacci(n): # n debe ser un numero entero positivo incluyendo el cero (numero natural)\n",
        "     if n <= 1:\n",
        "         return n\n",
        "     else:\n",
        "         return fibonacci(n - 1) + fibonacci(n - 2) #denrto del mismo bloque de código llamo a la función\n",
        "print(\"digite hasta que posicion de la serie fibonacci desea llegar\")\n",
        "n = int(input())\n",
        "for i in range(n):\n",
        "  print(f\"fibonacci({i}) = {fibonacci(i)}\")\n",
        "\n"
      ]
    }
  ],
  "metadata": {
    "colab": {
      "provenance": []
    },
    "kernelspec": {
      "display_name": "Python 3",
      "name": "python3"
    },
    "language_info": {
      "codemirror_mode": {
        "name": "ipython",
        "version": 3
      },
      "file_extension": ".py",
      "mimetype": "text/x-python",
      "name": "python",
      "nbconvert_exporter": "python",
      "pygments_lexer": "ipython3",
      "version": "3.13.4"
    }
  },
  "nbformat": 4,
  "nbformat_minor": 0
}
