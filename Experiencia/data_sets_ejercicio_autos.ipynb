{
  "nbformat": 4,
  "nbformat_minor": 0,
  "metadata": {
    "colab": {
      "provenance": []
    },
    "kernelspec": {
      "name": "python3",
      "display_name": "Python 3"
    },
    "language_info": {
      "name": "python"
    }
  },
  "cells": [
    {
      "cell_type": "code",
      "execution_count": null,
      "metadata": {
        "id": "OuhpGmVzN4Mr"
      },
      "outputs": [],
      "source": []
    },
    {
      "cell_type": "markdown",
      "metadata": {
        "id": "c4a47009"
      },
      "source": [
        "# Task\n",
        "Realizar un Análisis Exploratorio de Datos (EDA) en español del archivo \"Cars Datasets 2025.csv\"."
      ]
    },
    {
      "cell_type": "code",
      "metadata": {
        "id": "0fa1def3"
      },
      "source": [
        "import pandas as pd\n",
        "\n",
        "# Attempt to load the DataFrame from common paths\n",
        "df_cars = None\n",
        "paths_to_try = [\n",
        "    'Cars Datasets 2025.csv', # Current directory\n",
        "    '/content/Cars Datasets 2025.csv', # Colab content directory\n",
        "    '/kaggle/input/cars-datasets-2025/Cars Datasets 2025.csv', # Kaggle input directory (specific)\n",
        "    '../input/cars-datasets-2025/Cars Datasets 2025.csv', # Kaggle input directory (relative)\n",
        "    '/kaggle/input/Cars Datasets 2025.csv', # Kaggle input directory (general)\n",
        "    '../input/Cars Datasets 2025.csv', # Kaggle input directory (relative general)\n",
        "    '/kaggle/working/Cars Datasets 2025.csv', # Kaggle working directory\n",
        "    '../data/Cars Datasets 2025.csv', # Common data directory relative\n",
        "    '/data/Cars Datasets 2025.csv' # Common data directory absolute\n",
        "]\n",
        "\n",
        "for path in paths_to_try:\n",
        "    try:\n",
        "        df_cars = pd.read_csv(path)\n",
        "        print(f\"Archivo cargado exitosamente desde {path}\")\n",
        "        break # Exit loop if loading is successful\n",
        "    except FileNotFoundError:\n",
        "        print(f\"No se encontró el archivo en {path}\")\n",
        "        continue # Try the next path\n",
        "\n",
        "if df_cars is not None:\n",
        "    print(\"\\nDataFrame cargado. Mostrando las primeras filas:\")\n",
        "    display(df_cars.head())\n",
        "    print(\"\\nInformación del DataFrame:\")\n",
        "    df_cars.info()\n",
        "    print(\"\\nEstadísticas descriptivas del DataFrame:\")\n",
        "    display(df_cars.describe())\n",
        "else:\n",
        "    print(\"\\nNo se pudo cargar el DataFrame desde ninguna de las ubicaciones intentadas.\")"
      ],
      "execution_count": null,
      "outputs": []
    }
  ]
}