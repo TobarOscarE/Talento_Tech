{
 "cells": [
  {
   "cell_type": "markdown",
   "id": "9bc07f9c",
   "metadata": {},
   "source": [
    "Calcula la suma de todos los números múltiplos de 3 entre 1 y 100 (inclusive) usando un ciclo for."
   ]
  },
  {
   "cell_type": "code",
   "execution_count": 4,
   "id": "99bc9f13",
   "metadata": {},
   "outputs": [
    {
     "name": "stdout",
     "output_type": "stream",
     "text": [
      "La suma de los multiplos de 3 es 1683\n"
     ]
    }
   ],
   "source": [
    "suma = 0\n",
    "\n",
    "for i in range(1 , 101):\n",
    "    if i % 3 == 0:\n",
    "        suma += i #suma = suma + i\n",
    "    \n",
    "print(f\"La suma de los multiplos de 3 es {suma}\")"
   ]
  },
  {
   "cell_type": "code",
   "execution_count": null,
   "id": "4d92ef15",
   "metadata": {},
   "outputs": [],
   "source": [
    "#validando que sean números con el metodo isdigit()\n",
    "\n",
    "# hacer que el calculo de la suma acumulada de multiplos de 3 no este fuera del ciclo infinito\n",
    "suma = 0\n",
    "while True:    \n",
    "    rango_inicial = input(\"Digite el rango inicial para el ciclo for: \")\n",
    "    rango_final = input(\"Digite el rango final para el ciclo for: \")\n",
    "\n",
    "    if rango_inicial.isdigit():\n",
    "\n",
    "        \n",
    "        if rango_final.isdigit():\n",
    "            rango_inicial = int(rango_inicial)\n",
    "            rango_final = int(rango_final)\n",
    "            if rango_final > rango_inicial:\n",
    "                for i in range(rango_inicial, rango_final + 1):\n",
    "                    if i % 3 == 0:\n",
    "                        suma += i\n",
    "                break\n",
    "            else:\n",
    "                print(\"El rango final debe ser mayor que el rango inicial\")\n",
    "        else:\n",
    "            print(\"Su rango final no es un número: INTENTELO DE NUEVO\")\n",
    "    else:\n",
    "        print(\"Su rango inicial no es un número: INTENTELO DE NUEVO\")\n",
    "\n",
    "\n",
    "print(f\"La suma de los multiplos de 3 entre {rango_inicial} y {rango_final} es igual a {suma}\")"
   ]
  },
  {
   "cell_type": "code",
   "execution_count": null,
   "id": "61a59a8c",
   "metadata": {},
   "outputs": [
    {
     "name": "stdout",
     "output_type": "stream",
     "text": [
      "Error: invalid literal for int() with base 10: 'r'\n",
      "El rango final debe ser mayor que el rango inicial\n",
      "El rango final debe ser mayor que el rango inicial\n",
      "El rango final debe ser mayor que el rango inicial\n",
      "El rango final debe ser mayor que el rango inicial\n",
      "La suma de los multiplos de 3 entre 3 y 12 es igual a 30\n",
      "<class 'int'>\n"
     ]
    }
   ],
   "source": [
    "#validando que sean enteros a traves de try...except\n",
    "\n",
    "#Hacer que si el usuario se equivoca en digitar el rango final solo pida de nuevo el final\n",
    "suma = 0\n",
    "\n",
    "while True:\n",
    "    try:\n",
    "        rango_inicial = int(input(\"Digite el rango inicial para el ciclo for: \"))\n",
    "        rango_final = int(input(\"Digite el rango final para el ciclo for: \"))\n",
    "       \n",
    "    \n",
    "    \n",
    "    else:\n",
    "        if rango_final > rango_inicial:\n",
    "            for i in range(rango_inicial, rango_final + 1):\n",
    "                if i % 3 == 0:\n",
    "                    suma += i\n",
    "            print(f\"La suma de los multiplos de 3 entre {rango_inicial} y {rango_final} es igual a {suma}\")\n",
    "            print(type(rango_inicial))\n",
    "            break\n",
    "        else:\n",
    "             print(\"El rango final debe ser mayor que el rango inicial\")"
   ]
  },
  {
   "cell_type": "markdown",
   "id": "7b1d43da",
   "metadata": {},
   "source": [
    "Pide un número entero positivo al usuario y cuenta cuántos dígitos tiene usando un ciclo while."
   ]
  },
  {
   "cell_type": "code",
   "execution_count": 2,
   "id": "b8dedd9f",
   "metadata": {},
   "outputs": [
    {
     "name": "stdout",
     "output_type": "stream",
     "text": [
      "El numero 4567982 tiene 7 digitos\n"
     ]
    }
   ],
   "source": [
    "#conteo de digitos\n",
    "numero = int (input(\"Digite  un numero entero positivo: \"))\n",
    "contador = 0\n",
    "n = numero\n",
    "\n",
    "while n > 0:\n",
    "    n = n//10\n",
    "    contador += 1\n",
    "\n",
    "print(f\"El numero {numero} tiene {contador} digitos\")"
   ]
  },
  {
   "cell_type": "markdown",
   "id": "56d1f202",
   "metadata": {},
   "source": [
    "Pide dos números y muestra todos los números impares entre ellos (inclusive) usando for."
   ]
  },
  {
   "cell_type": "code",
   "execution_count": 3,
   "id": "c2b113c9",
   "metadata": {},
   "outputs": [
    {
     "name": "stdout",
     "output_type": "stream",
     "text": [
      "5 7 9 11 13 "
     ]
    }
   ],
   "source": [
    "while True:\n",
    "    try:\n",
    "        a = int(input(\"Digite el primer número: \"))\n",
    "        b = int(input(\"Digite el segundo número: \"))\n",
    "    except ValueError:\n",
    "        print(\"Solo debe ingresar numeros. INTENTELO NUEVAMENTE\")\n",
    "    else:\n",
    "        for i in range(min(a , b), max(a , b)):\n",
    "            if i % 2 != 0:\n",
    "                print(i, end=\" \")\n",
    "        break\n",
    "\n",
    "    "
   ]
  },
  {
   "cell_type": "markdown",
   "id": "c6d8fb07",
   "metadata": {},
   "source": [
    "Imprimir los primeros 10 números de la serie Fibonacci usando for"
   ]
  },
  {
   "cell_type": "markdown",
   "id": "d7c6f115",
   "metadata": {},
   "source": [
    "Calcular el factorial de un número usando while"
   ]
  },
  {
   "cell_type": "markdown",
   "id": "36d98697",
   "metadata": {},
   "source": [
    "Solicita un número y muestra su tabla de multiplicar del 1 al 10 usando un for."
   ]
  },
  {
   "cell_type": "markdown",
   "id": "affabd50",
   "metadata": {},
   "source": [
    "Dada una lista de números, encuentra el primer número negativo usando un ciclo while."
   ]
  },
  {
   "cell_type": "markdown",
   "id": "85f71fd1",
   "metadata": {},
   "source": [
    "Pide dos números y muestra todos los números impares entre ellos (inclusive) usando for."
   ]
  },
  {
   "cell_type": "markdown",
   "id": "c5de131c",
   "metadata": {},
   "source": [
    "Recorra una matriz e imprimala como esta declarada"
   ]
  },
  {
   "cell_type": "markdown",
   "id": "0df026fa",
   "metadata": {},
   "source": [
    "Recorra una lista de tuplas e imprimala como esta declarada"
   ]
  },
  {
   "cell_type": "markdown",
   "id": "83ae7033",
   "metadata": {},
   "source": [
    "recorra el siguiente diccionario \n",
    "\n",
    "mi_diccionario = {\n",
    "    \"nombre\": \"Alice\",\n",
    "    \"edad\": 30,\n",
    "    \"ciudad\": \"Nueva York\",\n",
    "    \"profesion\": \"Ingeniera\"\n",
    "}"
   ]
  },
  {
   "cell_type": "markdown",
   "id": "41ecac19",
   "metadata": {},
   "source": [
    "Averigue el index de cada elemento en la siguiente lista"
   ]
  }
 ],
 "metadata": {
  "kernelspec": {
   "display_name": "Python 3",
   "language": "python",
   "name": "python3"
  },
  "language_info": {
   "codemirror_mode": {
    "name": "ipython",
    "version": 3
   },
   "file_extension": ".py",
   "mimetype": "text/x-python",
   "name": "python",
   "nbconvert_exporter": "python",
   "pygments_lexer": "ipython3",
   "version": "3.13.4"
  }
 },
 "nbformat": 4,
 "nbformat_minor": 5
}
