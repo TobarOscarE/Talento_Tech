{
 "cells": [
  {
   "cell_type": "markdown",
   "id": "ee85610b",
   "metadata": {},
   "source": [
    "ejercicios ciclos y listas"
   ]
  },
  {
   "cell_type": "code",
   "execution_count": 3,
   "id": "75379179",
   "metadata": {},
   "outputs": [
    {
     "name": "stdout",
     "output_type": "stream",
     "text": [
      "Ingrese 5 nombres:\n",
      "\n",
      "Nombres ingresados: ['asd', 'qwe', 'asd', 'asd', 'qwe']\n",
      "Cantidad de nombres que comienzan con 'A': 3\n"
     ]
    }
   ],
   "source": [
    "# Crear lista vacía para guardar los nombres\n",
    "nombres = []\n",
    "\n",
    "# Solicitar 5 nombres al usuario\n",
    "print(\"Ingrese 5 nombres:\")\n",
    "\n",
    "for i in range(5):\n",
    "    nombre = input(f\"Ingrese el nombre #{i+1}: \")\n",
    "    nombres.append(nombre)\n",
    "\n",
    "# Contar cuántos nombres empiezan con la letra \"A\" o \"a\"\n",
    "contador_a = 0\n",
    "for nombre in nombres:\n",
    "    if len(nombre) > 0:  # Asegurarse de que el nombre no esté vacío\n",
    "        primera_letra = nombre[0]  # cada nombre lo vuelve una lista de caracteres y toma la primera letra\n",
    "        if primera_letra.lower() == \"a\" :\n",
    "            contador_a += 1\n",
    "\n",
    "# Mostrar resultados\n",
    "print(f\"\\nNombres ingresados: {nombres}\")\n",
    "print(f\"Cantidad de nombres que comienzan con 'A': {contador_a}\")\n"
   ]
  },
  {
   "cell_type": "markdown",
   "id": "e58aede3",
   "metadata": {},
   "source": []
  }
 ],
 "metadata": {
  "kernelspec": {
   "display_name": "Python 3",
   "language": "python",
   "name": "python3"
  },
  "language_info": {
   "codemirror_mode": {
    "name": "ipython",
    "version": 3
   },
   "file_extension": ".py",
   "mimetype": "text/x-python",
   "name": "python",
   "nbconvert_exporter": "python",
   "pygments_lexer": "ipython3",
   "version": "3.13.4"
  }
 },
 "nbformat": 4,
 "nbformat_minor": 5
}
